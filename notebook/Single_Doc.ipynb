{
 "cells": [
  {
   "cell_type": "code",
   "execution_count": 32,
   "metadata": {},
   "outputs": [
    {
     "name": "stdout",
     "output_type": "stream",
     "text": [
      " \n",
      "(1) \n",
      " The Constitution of Nepal  \n",
      "Date of Publication in Nepal Gazette  \n",
      " 20 September 2015 (2072.\n"
     ]
    }
   ],
   "source": [
    "import PyPDF2\n",
    "\n",
    "pdf_file = open('../data/Constitution-of-Nepal-_English_-with-1st-Amendment_2.pdf', 'rb')\n",
    "\n",
    "pdf_reader = PyPDF2.PdfReader(pdf_file)\n",
    "\n",
    "num_pages = len(pdf_reader.pages)\n",
    "\n",
    "text = ''\n",
    "for page_num in range(num_pages):\n",
    "  page = pdf_reader.pages[page_num]\n",
    "  text += page.extract_text ()\n",
    "\n",
    "pdf_file.close()\n",
    "\n",
    "print(text[:100])\n"
   ]
  },
  {
   "cell_type": "code",
   "execution_count": 33,
   "metadata": {},
   "outputs": [],
   "source": [
    "from langchain.chains import AnalyzeDocumentChain\n",
    "from langchain_openai import ChatOpenAI\n",
    "llm = ChatOpenAI(model=\"gpt-3.5-turbo\", temperature=0, api_key=' ')\n"
   ]
  },
  {
   "cell_type": "code",
   "execution_count": 34,
   "metadata": {},
   "outputs": [],
   "source": [
    "from langchain.chains.question_answering import load_qa_chain\n",
    "\n",
    "qa_chain = load_qa_chain(llm, chain_type=\"map_reduce\")"
   ]
  },
  {
   "cell_type": "code",
   "execution_count": 35,
   "metadata": {},
   "outputs": [],
   "source": [
    "qa_document_chain = AnalyzeDocumentChain(combine_docs_chain=qa_chain)\n"
   ]
  },
  {
   "cell_type": "code",
   "execution_count": 36,
   "metadata": {},
   "outputs": [
    {
     "data": {
      "text/plain": [
       "\"The fundamental rights guaranteed by the Constitution include the right to live with dignity, freedom of personal liberty, freedom of opinion and expression, freedom to assemble peaceably, freedom to form political parties, freedom to move and reside in any part of Nepal, right to equality, right against exploitation, right to property, right to information, right to privacy, right to education, right to religion, right to culture, right to social justice, right to communication without censorship, right to equality in remuneration and social security regardless of gender, right to justice, right to be presumed innocent until proven guilty, right to a fair trial, right to free legal aid, right against torture, right against preventive detention without sufficient grounds, right against untouchability and discrimination, right relating to property ownership, right to a clean environment, right to obtain compensation for injuries caused by environmental pollution, right of access to basic education, right to free education, right to free higher education for citizens with disabilities and economically disadvantaged citizens, right to education in one's mother tongue, right to use one's language and participate in cultural life, right to employment and fair labor practices, right to free basic health services, right to clean drinking water and sanitation, right to food, right to housing, rights of women, right to participate in State bodies based on proportional inclusion, special opportunities and benefits for indigent citizens and communities on the verge of extinction, rights for citizens with disabilities, access to lands for farmers, prioritized opportunities for families of martyrs, conflict victims, and persons with disabilities, right to social security, right to obtain quality goods and services as a consumer, right against exile, and duties of citizens to safeguard nationality, abide by the Constitution and law, render compulsory service when required, and protect public property.\""
      ]
     },
     "execution_count": 36,
     "metadata": {},
     "output_type": "execute_result"
    }
   ],
   "source": [
    "qa_document_chain.run(\n",
    "    input_document=text,\n",
    "    question=\"What are the fundamental rights guaranteed by the Constitution?\",\n",
    ")"
   ]
  },
  {
   "cell_type": "code",
   "execution_count": null,
   "metadata": {},
   "outputs": [],
   "source": []
  }
 ],
 "metadata": {
  "kernelspec": {
   "display_name": "resume",
   "language": "python",
   "name": "python3"
  },
  "language_info": {
   "codemirror_mode": {
    "name": "ipython",
    "version": 3
   },
   "file_extension": ".py",
   "mimetype": "text/x-python",
   "name": "python",
   "nbconvert_exporter": "python",
   "pygments_lexer": "ipython3",
   "version": "3.11.7"
  }
 },
 "nbformat": 4,
 "nbformat_minor": 2
}
